{
  "nbformat": 4,
  "nbformat_minor": 0,
  "metadata": {
    "colab": {
      "provenance": []
    },
    "kernelspec": {
      "name": "python3",
      "display_name": "Python 3"
    },
    "language_info": {
      "name": "python"
    }
  },
  "cells": [
    {
      "cell_type": "code",
      "execution_count": 3,
      "metadata": {
        "id": "CTbVfkLpbeCx"
      },
      "outputs": [],
      "source": [
        "def McCulloch_Pitts_OR():\n",
        "  print('Введите веса')\n",
        "  w1 = float(input('Вес w1 = '))\n",
        "  w2 = float(input('Вес w2 = '))\n",
        "  print('Введите величину порога')\n",
        "  theta = float(input('Порог = '))\n",
        "\n",
        "  y = [0, 0, 0, 0]\n",
        "  x1 = [1, 1, 0, 0]\n",
        "  x2 = [1, 0, 1, 0]\n",
        "  z = [1, 1, 1, 0]\n",
        "  con = 1\n",
        "\n",
        "  while con:\n",
        "      zin = [x1[i] * w1 + x2[i] * w2 for i in range(4)]\n",
        "\n",
        "      for i in range(4):\n",
        "          if zin[i] >= theta:\n",
        "              y[i] = 1\n",
        "          else:\n",
        "              y[i] = 0\n",
        "\n",
        "      print('Значение на выходе нейрона')\n",
        "      print(y)\n",
        "\n",
        "      if y == z:\n",
        "          con = 0\n",
        "      else:\n",
        "          print('Нейрон не обучен. Введите другие значения весовых коэффициентов и порога')\n",
        "          w1 = float(input('Вес w1 = '))\n",
        "          w2 = float(input('Вес w2 = '))\n",
        "          theta = float(input('Порог = '))\n",
        "\n",
        "  print('Нейрон МакКаллока-Питса для функции \"ИЛИ\" (англ. \"OR\")')\n",
        "  print('Веса нейрона')\n",
        "  print(w1)\n",
        "  print(w2)\n",
        "  print('Пороговое значение')\n",
        "  print(theta)"
      ]
    },
    {
      "cell_type": "code",
      "source": [
        "McCulloch_Pitts_OR()"
      ],
      "metadata": {
        "id": "H25Czsyvcs50"
      },
      "execution_count": null,
      "outputs": []
    }
  ]
}